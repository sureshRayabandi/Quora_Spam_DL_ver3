{
 "cells": [
  {
   "cell_type": "code",
   "execution_count": 27,
   "metadata": {},
   "outputs": [],
   "source": [
    "import numpy as np # linear algebra\n",
    "import pandas as pd # data processing, CSV file I/O (e.g. pd.read_csv)\n",
    "import re\n",
    "import string\n",
    "from nltk.tokenize import word_tokenize"
   ]
  },
  {
   "cell_type": "code",
   "execution_count": 28,
   "metadata": {},
   "outputs": [
    {
     "data": {
      "text/plain": [
       "['/job:localhost/replica:0/task:0/device:GPU:0']"
      ]
     },
     "execution_count": 28,
     "metadata": {},
     "output_type": "execute_result"
    }
   ],
   "source": [
    "from keras import backend as K\n",
    "K.tensorflow_backend._get_available_gpus()"
   ]
  },
  {
   "cell_type": "code",
   "execution_count": 29,
   "metadata": {},
   "outputs": [],
   "source": [
    "QuoraQuestions = pd.read_csv(r'E:\\Data Science\\Final DS Projects\\AI Projects\\QuoraSpam filter\\train.csv')"
   ]
  },
  {
   "cell_type": "code",
   "execution_count": 30,
   "metadata": {},
   "outputs": [
    {
     "name": "stdout",
     "output_type": "stream",
     "text": [
      "Total Quora questions 1306122\n"
     ]
    }
   ],
   "source": [
    "print(\"Total Quora questions {0}\".format(QuoraQuestions.shape[0]))"
   ]
  },
  {
   "cell_type": "code",
   "execution_count": 31,
   "metadata": {},
   "outputs": [],
   "source": [
    "pd.options.display.max_colwidth = 0"
   ]
  },
  {
   "cell_type": "code",
   "execution_count": 32,
   "metadata": {
    "scrolled": true
   },
   "outputs": [
    {
     "data": {
      "text/html": [
       "<div>\n",
       "<style scoped>\n",
       "    .dataframe tbody tr th:only-of-type {\n",
       "        vertical-align: middle;\n",
       "    }\n",
       "\n",
       "    .dataframe tbody tr th {\n",
       "        vertical-align: top;\n",
       "    }\n",
       "\n",
       "    .dataframe thead th {\n",
       "        text-align: right;\n",
       "    }\n",
       "</style>\n",
       "<table border=\"1\" class=\"dataframe\">\n",
       "  <thead>\n",
       "    <tr style=\"text-align: right;\">\n",
       "      <th></th>\n",
       "      <th>qid</th>\n",
       "      <th>question_text</th>\n",
       "      <th>target</th>\n",
       "    </tr>\n",
       "  </thead>\n",
       "  <tbody>\n",
       "    <tr>\n",
       "      <th>0</th>\n",
       "      <td>00002165364db923c7e6</td>\n",
       "      <td>How did Quebec nationalists see their province as a nation in the 1960s?</td>\n",
       "      <td>0</td>\n",
       "    </tr>\n",
       "    <tr>\n",
       "      <th>1</th>\n",
       "      <td>000032939017120e6e44</td>\n",
       "      <td>Do you have an adopted dog, how would you encourage people to adopt and not shop?</td>\n",
       "      <td>0</td>\n",
       "    </tr>\n",
       "    <tr>\n",
       "      <th>2</th>\n",
       "      <td>0000412ca6e4628ce2cf</td>\n",
       "      <td>Why does velocity affect time? Does velocity affect space geometry?</td>\n",
       "      <td>0</td>\n",
       "    </tr>\n",
       "    <tr>\n",
       "      <th>3</th>\n",
       "      <td>000042bf85aa498cd78e</td>\n",
       "      <td>How did Otto von Guericke used the Magdeburg hemispheres?</td>\n",
       "      <td>0</td>\n",
       "    </tr>\n",
       "    <tr>\n",
       "      <th>4</th>\n",
       "      <td>0000455dfa3e01eae3af</td>\n",
       "      <td>Can I convert montra helicon D to a mountain bike by just changing the tyres?</td>\n",
       "      <td>0</td>\n",
       "    </tr>\n",
       "    <tr>\n",
       "      <th>5</th>\n",
       "      <td>00004f9a462a357c33be</td>\n",
       "      <td>Is Gaza slowly becoming Auschwitz, Dachau or Treblinka for Palestinians?</td>\n",
       "      <td>0</td>\n",
       "    </tr>\n",
       "    <tr>\n",
       "      <th>6</th>\n",
       "      <td>00005059a06ee19e11ad</td>\n",
       "      <td>Why does Quora automatically ban conservative opinions when reported, but does not do the same for liberal views?</td>\n",
       "      <td>0</td>\n",
       "    </tr>\n",
       "    <tr>\n",
       "      <th>7</th>\n",
       "      <td>0000559f875832745e2e</td>\n",
       "      <td>Is it crazy if I wash or wipe my groceries off? Germs are everywhere.</td>\n",
       "      <td>0</td>\n",
       "    </tr>\n",
       "    <tr>\n",
       "      <th>8</th>\n",
       "      <td>00005bd3426b2d0c8305</td>\n",
       "      <td>Is there such a thing as dressing moderately, and if so, how is that different than dressing modestly?</td>\n",
       "      <td>0</td>\n",
       "    </tr>\n",
       "    <tr>\n",
       "      <th>9</th>\n",
       "      <td>00006e6928c5df60eacb</td>\n",
       "      <td>Is it just me or have you ever been in this phase wherein you became ignorant to the people you once loved, completely disregarding their feelings/lives so you get to have something go your way and feel temporarily at ease. How did things change?</td>\n",
       "      <td>0</td>\n",
       "    </tr>\n",
       "    <tr>\n",
       "      <th>10</th>\n",
       "      <td>000075f67dd595c3deb5</td>\n",
       "      <td>What can you say about feminism?</td>\n",
       "      <td>0</td>\n",
       "    </tr>\n",
       "    <tr>\n",
       "      <th>11</th>\n",
       "      <td>000076f3b42776c692de</td>\n",
       "      <td>How were the Calgary Flames founded?</td>\n",
       "      <td>0</td>\n",
       "    </tr>\n",
       "    <tr>\n",
       "      <th>12</th>\n",
       "      <td>000089792b3fc8026741</td>\n",
       "      <td>What is the dumbest, yet possibly true explanation for Trump being elected?</td>\n",
       "      <td>0</td>\n",
       "    </tr>\n",
       "    <tr>\n",
       "      <th>13</th>\n",
       "      <td>000092a90bcfbfe8cd88</td>\n",
       "      <td>Can we use our external hard disk as a OS as well as for data storage.will the data be affected?</td>\n",
       "      <td>0</td>\n",
       "    </tr>\n",
       "    <tr>\n",
       "      <th>14</th>\n",
       "      <td>000095680e41a9a6f6e3</td>\n",
       "      <td>I am 30, living at home and have no boyfriend. I would love a boyfriend and my own home. How can I progress my situation?</td>\n",
       "      <td>0</td>\n",
       "    </tr>\n",
       "  </tbody>\n",
       "</table>\n",
       "</div>"
      ],
      "text/plain": [
       "                     qid  \\\n",
       "0   00002165364db923c7e6   \n",
       "1   000032939017120e6e44   \n",
       "2   0000412ca6e4628ce2cf   \n",
       "3   000042bf85aa498cd78e   \n",
       "4   0000455dfa3e01eae3af   \n",
       "5   00004f9a462a357c33be   \n",
       "6   00005059a06ee19e11ad   \n",
       "7   0000559f875832745e2e   \n",
       "8   00005bd3426b2d0c8305   \n",
       "9   00006e6928c5df60eacb   \n",
       "10  000075f67dd595c3deb5   \n",
       "11  000076f3b42776c692de   \n",
       "12  000089792b3fc8026741   \n",
       "13  000092a90bcfbfe8cd88   \n",
       "14  000095680e41a9a6f6e3   \n",
       "\n",
       "                                                                                                                                                                                                                                             question_text  \\\n",
       "0   How did Quebec nationalists see their province as a nation in the 1960s?                                                                                                                                                                                 \n",
       "1   Do you have an adopted dog, how would you encourage people to adopt and not shop?                                                                                                                                                                        \n",
       "2   Why does velocity affect time? Does velocity affect space geometry?                                                                                                                                                                                      \n",
       "3   How did Otto von Guericke used the Magdeburg hemispheres?                                                                                                                                                                                                \n",
       "4   Can I convert montra helicon D to a mountain bike by just changing the tyres?                                                                                                                                                                            \n",
       "5   Is Gaza slowly becoming Auschwitz, Dachau or Treblinka for Palestinians?                                                                                                                                                                                 \n",
       "6   Why does Quora automatically ban conservative opinions when reported, but does not do the same for liberal views?                                                                                                                                        \n",
       "7   Is it crazy if I wash or wipe my groceries off? Germs are everywhere.                                                                                                                                                                                    \n",
       "8   Is there such a thing as dressing moderately, and if so, how is that different than dressing modestly?                                                                                                                                                   \n",
       "9   Is it just me or have you ever been in this phase wherein you became ignorant to the people you once loved, completely disregarding their feelings/lives so you get to have something go your way and feel temporarily at ease. How did things change?   \n",
       "10  What can you say about feminism?                                                                                                                                                                                                                         \n",
       "11  How were the Calgary Flames founded?                                                                                                                                                                                                                     \n",
       "12  What is the dumbest, yet possibly true explanation for Trump being elected?                                                                                                                                                                              \n",
       "13  Can we use our external hard disk as a OS as well as for data storage.will the data be affected?                                                                                                                                                         \n",
       "14  I am 30, living at home and have no boyfriend. I would love a boyfriend and my own home. How can I progress my situation?                                                                                                                                \n",
       "\n",
       "    target  \n",
       "0   0       \n",
       "1   0       \n",
       "2   0       \n",
       "3   0       \n",
       "4   0       \n",
       "5   0       \n",
       "6   0       \n",
       "7   0       \n",
       "8   0       \n",
       "9   0       \n",
       "10  0       \n",
       "11  0       \n",
       "12  0       \n",
       "13  0       \n",
       "14  0       "
      ]
     },
     "execution_count": 32,
     "metadata": {},
     "output_type": "execute_result"
    }
   ],
   "source": [
    "QuoraQuestions.head(15)"
   ]
  },
  {
   "cell_type": "code",
   "execution_count": 33,
   "metadata": {},
   "outputs": [
    {
     "data": {
      "text/plain": [
       "qid              object\n",
       "question_text    object\n",
       "target           int64 \n",
       "dtype: object"
      ]
     },
     "execution_count": 33,
     "metadata": {},
     "output_type": "execute_result"
    }
   ],
   "source": [
    "QuoraQuestions.dtypes"
   ]
  },
  {
   "cell_type": "code",
   "execution_count": 34,
   "metadata": {},
   "outputs": [
    {
     "data": {
      "text/plain": [
       "(1306122, 3)"
      ]
     },
     "execution_count": 34,
     "metadata": {},
     "output_type": "execute_result"
    }
   ],
   "source": [
    "QuoraQuestions.shape"
   ]
  },
  {
   "cell_type": "code",
   "execution_count": 35,
   "metadata": {
    "scrolled": true
   },
   "outputs": [],
   "source": [
    "# removing the Math question, that doesn't  make any sensible sequence to learn.\n",
    "QuoraQuestions = QuoraQuestions[QuoraQuestions['question_text'].str.contains(\"\\[math\\]\",na=False) != True]\n"
   ]
  },
  {
   "cell_type": "code",
   "execution_count": null,
   "metadata": {},
   "outputs": [],
   "source": [
    "#re.sub('\\[math\\].*?\\[/math\\]',''QuoraQuestionsoraQuestionsuoraQuestions['question_text'].str.contains(\"\\[math\\]\",na=False),flags=re.DOTALL)"
   ]
  },
  {
   "cell_type": "code",
   "execution_count": 36,
   "metadata": {},
   "outputs": [
    {
     "data": {
      "text/plain": [
       "(1305387, 3)"
      ]
     },
     "execution_count": 36,
     "metadata": {},
     "output_type": "execute_result"
    }
   ],
   "source": [
    "QuoraQuestions.shape"
   ]
  },
  {
   "cell_type": "code",
   "execution_count": 37,
   "metadata": {},
   "outputs": [
    {
     "data": {
      "text/plain": [
       "0    1224622\n",
       "1    80765  \n",
       "Name: target, dtype: int64"
      ]
     },
     "execution_count": 37,
     "metadata": {},
     "output_type": "execute_result"
    }
   ],
   "source": [
    "QuoraQuestions['target'].value_counts()"
   ]
  },
  {
   "cell_type": "code",
   "execution_count": 38,
   "metadata": {},
   "outputs": [
    {
     "data": {
      "text/plain": [
       "(1305387, 3)"
      ]
     },
     "execution_count": 38,
     "metadata": {},
     "output_type": "execute_result"
    }
   ],
   "source": [
    "QuoraQuestions.shape"
   ]
  },
  {
   "cell_type": "code",
   "execution_count": 39,
   "metadata": {},
   "outputs": [
    {
     "data": {
      "text/plain": [
       "1305387"
      ]
     },
     "execution_count": 39,
     "metadata": {},
     "output_type": "execute_result"
    }
   ],
   "source": [
    "QuoraQuestions['question_text'].nunique()"
   ]
  },
  {
   "cell_type": "code",
   "execution_count": 40,
   "metadata": {},
   "outputs": [],
   "source": [
    "# Dropping Quora question id (qid), since its unique and do not contribute to model.\n",
    "QuoraQuestions.drop(['qid'],axis=1,inplace=True)"
   ]
  },
  {
   "cell_type": "markdown",
   "metadata": {},
   "source": [
    "# Removing special characters"
   ]
  },
  {
   "cell_type": "code",
   "execution_count": 41,
   "metadata": {},
   "outputs": [],
   "source": [
    "def remove_hyperLink(word):\n",
    "    return re.sub(r\"https\\S+\",\" \",word)"
   ]
  },
  {
   "cell_type": "code",
   "execution_count": 42,
   "metadata": {},
   "outputs": [],
   "source": [
    "def to_lower(word):\n",
    "    result = word.lower()\n",
    "    return result"
   ]
  },
  {
   "cell_type": "code",
   "execution_count": 43,
   "metadata": {},
   "outputs": [],
   "source": [
    "def remove_Number(word):\n",
    "    result = re.sub(r'\\d+',' ',word)\n",
    "    return result"
   ]
  },
  {
   "cell_type": "code",
   "execution_count": 44,
   "metadata": {},
   "outputs": [],
   "source": [
    "def remove_punctuation(word):\n",
    "    result = word.translate(str.maketrans(dict.fromkeys(string.punctuation)))\n",
    "    return result"
   ]
  },
  {
   "cell_type": "code",
   "execution_count": 45,
   "metadata": {},
   "outputs": [],
   "source": [
    "def remove_whitespace(word):\n",
    "    result = word.strip()\n",
    "    return result"
   ]
  },
  {
   "cell_type": "code",
   "execution_count": 46,
   "metadata": {},
   "outputs": [],
   "source": [
    "def replace_newline(word):\n",
    "    return word.replace('\\n',' ')"
   ]
  },
  {
   "cell_type": "code",
   "execution_count": 47,
   "metadata": {},
   "outputs": [],
   "source": [
    "def clean_up_pipeline(sentence):\n",
    "    cleaning_utils = [remove_hyperLink,\n",
    "                      replace_newline,\n",
    "                      to_lower,\n",
    "                      remove_Number,\n",
    "                      remove_punctuation,remove_whitespace]\n",
    "    for o in cleaning_utils:\n",
    "        sentence = o(sentence)\n",
    "    return sentence"
   ]
  },
  {
   "cell_type": "code",
   "execution_count": 48,
   "metadata": {},
   "outputs": [],
   "source": [
    "QuoraQuestions['question_text'] = [clean_up_pipeline(Q) for Q in QuoraQuestions['question_text']]"
   ]
  },
  {
   "cell_type": "code",
   "execution_count": 49,
   "metadata": {
    "scrolled": true
   },
   "outputs": [
    {
     "data": {
      "text/html": [
       "<div>\n",
       "<style scoped>\n",
       "    .dataframe tbody tr th:only-of-type {\n",
       "        vertical-align: middle;\n",
       "    }\n",
       "\n",
       "    .dataframe tbody tr th {\n",
       "        vertical-align: top;\n",
       "    }\n",
       "\n",
       "    .dataframe thead th {\n",
       "        text-align: right;\n",
       "    }\n",
       "</style>\n",
       "<table border=\"1\" class=\"dataframe\">\n",
       "  <thead>\n",
       "    <tr style=\"text-align: right;\">\n",
       "      <th></th>\n",
       "      <th>question_text</th>\n",
       "      <th>target</th>\n",
       "    </tr>\n",
       "  </thead>\n",
       "  <tbody>\n",
       "    <tr>\n",
       "      <th>22</th>\n",
       "      <td>has the united states become the largest dictatorship in the world</td>\n",
       "      <td>1</td>\n",
       "    </tr>\n",
       "    <tr>\n",
       "      <th>30</th>\n",
       "      <td>which babies are more sweeter to their parents dark skin babies or light skin babies</td>\n",
       "      <td>1</td>\n",
       "    </tr>\n",
       "    <tr>\n",
       "      <th>110</th>\n",
       "      <td>if blacks support school choice and mandatory sentencing for criminals why dont they vote republican</td>\n",
       "      <td>1</td>\n",
       "    </tr>\n",
       "    <tr>\n",
       "      <th>114</th>\n",
       "      <td>i am gay boy and i love my cousin boy he is sexy but i dont know what to do he is hot and i want to see his di what should i do</td>\n",
       "      <td>1</td>\n",
       "    </tr>\n",
       "    <tr>\n",
       "      <th>115</th>\n",
       "      <td>which races have the smallest penis</td>\n",
       "      <td>1</td>\n",
       "    </tr>\n",
       "    <tr>\n",
       "      <th>119</th>\n",
       "      <td>why do females find penises ugly</td>\n",
       "      <td>1</td>\n",
       "    </tr>\n",
       "    <tr>\n",
       "      <th>127</th>\n",
       "      <td>how do i marry an american woman for a green card how much do they charge</td>\n",
       "      <td>1</td>\n",
       "    </tr>\n",
       "    <tr>\n",
       "      <th>144</th>\n",
       "      <td>why do europeans say theyre the superior race when in fact it took them over    years until mid  th century to surpass chinas largest economy</td>\n",
       "      <td>1</td>\n",
       "    </tr>\n",
       "    <tr>\n",
       "      <th>156</th>\n",
       "      <td>did julius caesar bring a tyrannosaurus rex on his campaigns to frighten the celts into submission</td>\n",
       "      <td>1</td>\n",
       "    </tr>\n",
       "    <tr>\n",
       "      <th>167</th>\n",
       "      <td>in what manner has republican backing of states rights been hypocritical and what ways have they actually restricted the ability of states to make their own laws</td>\n",
       "      <td>1</td>\n",
       "    </tr>\n",
       "    <tr>\n",
       "      <th>168</th>\n",
       "      <td>would europeans continue to participate in the arab war for the destruction of israel and killing all the jews if they knew that god himself defends israel and he will do to europeans what the arabs want to do to the jews</td>\n",
       "      <td>1</td>\n",
       "    </tr>\n",
       "    <tr>\n",
       "      <th>208</th>\n",
       "      <td>why are americans british canadians australians and new zealanders considered to be separate nations even when they all speak the same language</td>\n",
       "      <td>1</td>\n",
       "    </tr>\n",
       "    <tr>\n",
       "      <th>214</th>\n",
       "      <td>if both honey singh and justin bieber fall from the  th floor who will survive</td>\n",
       "      <td>1</td>\n",
       "    </tr>\n",
       "    <tr>\n",
       "      <th>224</th>\n",
       "      <td>why are liberal minorities so voilent towards poeple with diffrent poltical beleifs should supporting trump be a sentence to be imprisoned or savegely attacked</td>\n",
       "      <td>1</td>\n",
       "    </tr>\n",
       "    <tr>\n",
       "      <th>235</th>\n",
       "      <td>can we all now admit that president trump doesnt really want congress to pass legislation replacing daca to protect dreamers</td>\n",
       "      <td>1</td>\n",
       "    </tr>\n",
       "    <tr>\n",
       "      <th>260</th>\n",
       "      <td>the american economy is growing under trump’s presidency why do people still hate trump as a president</td>\n",
       "      <td>1</td>\n",
       "    </tr>\n",
       "    <tr>\n",
       "      <th>286</th>\n",
       "      <td>why dont poor countries print more money to use for paying for education etc</td>\n",
       "      <td>1</td>\n",
       "    </tr>\n",
       "    <tr>\n",
       "      <th>289</th>\n",
       "      <td>why do all the people who claim florida has great weather go silent every time theres a new hurricane</td>\n",
       "      <td>1</td>\n",
       "    </tr>\n",
       "    <tr>\n",
       "      <th>291</th>\n",
       "      <td>could the leader of iran be dead many years ago and the leader of todays iran is actually a fake leader</td>\n",
       "      <td>1</td>\n",
       "    </tr>\n",
       "    <tr>\n",
       "      <th>302</th>\n",
       "      <td>why do the liberals who run schools choose not to have controlled access the kids in florida were killed due to an unlocked door</td>\n",
       "      <td>1</td>\n",
       "    </tr>\n",
       "    <tr>\n",
       "      <th>315</th>\n",
       "      <td>why did pakistan pass the sikh marriage act before india</td>\n",
       "      <td>1</td>\n",
       "    </tr>\n",
       "    <tr>\n",
       "      <th>333</th>\n",
       "      <td>how do i train my dogs to kill raccoons</td>\n",
       "      <td>1</td>\n",
       "    </tr>\n",
       "    <tr>\n",
       "      <th>362</th>\n",
       "      <td>is there any woman other than muslim who is happy after marrying a muslim guy as there are a lot of answers on quora about love jihad and all of them suffered a lot after marrying a muslim guy</td>\n",
       "      <td>1</td>\n",
       "    </tr>\n",
       "    <tr>\n",
       "      <th>397</th>\n",
       "      <td>do moms have sex with their sons</td>\n",
       "      <td>1</td>\n",
       "    </tr>\n",
       "    <tr>\n",
       "      <th>400</th>\n",
       "      <td>why did the pope say that muslims are a curse to this world</td>\n",
       "      <td>1</td>\n",
       "    </tr>\n",
       "    <tr>\n",
       "      <th>439</th>\n",
       "      <td>how peoples in india seems hypocritical about womans empowerment</td>\n",
       "      <td>1</td>\n",
       "    </tr>\n",
       "    <tr>\n",
       "      <th>460</th>\n",
       "      <td>how much more political fumbling will it take for republicans to turn on trump</td>\n",
       "      <td>1</td>\n",
       "    </tr>\n",
       "    <tr>\n",
       "      <th>496</th>\n",
       "      <td>why do americans prefer just to not show up somewhere rather than face even the mildest of conflicts my colleagues and i have noted a growing number of people who skip any face to face meetings without any explanation at all</td>\n",
       "      <td>1</td>\n",
       "    </tr>\n",
       "    <tr>\n",
       "      <th>538</th>\n",
       "      <td>liberals are prochoice but the choices must be approved by them first is this an accurate description of liberals</td>\n",
       "      <td>1</td>\n",
       "    </tr>\n",
       "    <tr>\n",
       "      <th>544</th>\n",
       "      <td>why are south indian dishes which are prepared by north indians more tasty than dishes prepared by south indian restaurants</td>\n",
       "      <td>1</td>\n",
       "    </tr>\n",
       "    <tr>\n",
       "      <th>...</th>\n",
       "      <td>...</td>\n",
       "      <td>...</td>\n",
       "    </tr>\n",
       "    <tr>\n",
       "      <th>1305724</th>\n",
       "      <td>when did you feel first time yourself as shamed as being an indian why it so</td>\n",
       "      <td>1</td>\n",
       "    </tr>\n",
       "    <tr>\n",
       "      <th>1305732</th>\n",
       "      <td>where can i hire a young stud so my teenager daughter can experience her first creampie for her birthday she is on birth control and is emotionally mature</td>\n",
       "      <td>1</td>\n",
       "    </tr>\n",
       "    <tr>\n",
       "      <th>1305742</th>\n",
       "      <td>why nobody talks about the stupidity of the american public who elected the worst president in us history</td>\n",
       "      <td>1</td>\n",
       "    </tr>\n",
       "    <tr>\n",
       "      <th>1305782</th>\n",
       "      <td>is erdogan turning ataturk’s democratic turkey into an islamic state by his hatred speech against kurds and neighboring countries</td>\n",
       "      <td>1</td>\n",
       "    </tr>\n",
       "    <tr>\n",
       "      <th>1305800</th>\n",
       "      <td>why isnt the former attorney general loretta lynch involved with the mueller investigation it would appear to me that being comeys boss she might have instructed him to go softly on hillary clinton with her email debacle</td>\n",
       "      <td>1</td>\n",
       "    </tr>\n",
       "    <tr>\n",
       "      <th>1305803</th>\n",
       "      <td>what percentage of women cheat on their hubbies</td>\n",
       "      <td>1</td>\n",
       "    </tr>\n",
       "    <tr>\n",
       "      <th>1305824</th>\n",
       "      <td>is someone diagnosed with aspergers syndrome stupid and evil</td>\n",
       "      <td>1</td>\n",
       "    </tr>\n",
       "    <tr>\n",
       "      <th>1305826</th>\n",
       "      <td>why are israeli men short</td>\n",
       "      <td>1</td>\n",
       "    </tr>\n",
       "    <tr>\n",
       "      <th>1305851</th>\n",
       "      <td>some psychiatrists in iran claim that they can definitely cure homosexuality is that possible if not why do they claim that they have many patients who are cured by them</td>\n",
       "      <td>1</td>\n",
       "    </tr>\n",
       "    <tr>\n",
       "      <th>1305872</th>\n",
       "      <td>what happens to a state if its population demographically changed by muslims do they demand for separate nation and harass nonmuslims who is more secular</td>\n",
       "      <td>1</td>\n",
       "    </tr>\n",
       "    <tr>\n",
       "      <th>1305912</th>\n",
       "      <td>do the chinese people eat bath soap</td>\n",
       "      <td>1</td>\n",
       "    </tr>\n",
       "    <tr>\n",
       "      <th>1305923</th>\n",
       "      <td>does this congress have blood on their hands for allowing mass shootings to occur without properly addressing gun control</td>\n",
       "      <td>1</td>\n",
       "    </tr>\n",
       "    <tr>\n",
       "      <th>1305925</th>\n",
       "      <td>why are men selective</td>\n",
       "      <td>1</td>\n",
       "    </tr>\n",
       "    <tr>\n",
       "      <th>1305935</th>\n",
       "      <td>why do girls not prefer to become a physicist</td>\n",
       "      <td>1</td>\n",
       "    </tr>\n",
       "    <tr>\n",
       "      <th>1305946</th>\n",
       "      <td>why do the people from kannur in kerala adjust better in mangalore than kannadigas from chikmagalur hassan in karnataka</td>\n",
       "      <td>1</td>\n",
       "    </tr>\n",
       "    <tr>\n",
       "      <th>1305949</th>\n",
       "      <td>why is there a trend for dresses to reveal the body more than they are supposed to</td>\n",
       "      <td>1</td>\n",
       "    </tr>\n",
       "    <tr>\n",
       "      <th>1305956</th>\n",
       "      <td>should i give my child a panic button or pepper spray for the nurse in case the school tries to vaccinate himher in spite of me declining to authorize it</td>\n",
       "      <td>1</td>\n",
       "    </tr>\n",
       "    <tr>\n",
       "      <th>1305961</th>\n",
       "      <td>is it true that hydrogen is a light odorless gas which given enough time turns into people</td>\n",
       "      <td>1</td>\n",
       "    </tr>\n",
       "    <tr>\n",
       "      <th>1305980</th>\n",
       "      <td>it is posible to kill  months baby</td>\n",
       "      <td>1</td>\n",
       "    </tr>\n",
       "    <tr>\n",
       "      <th>1305995</th>\n",
       "      <td>is it a fact that the europeans are the biggest criminals in the history of humanity</td>\n",
       "      <td>1</td>\n",
       "    </tr>\n",
       "    <tr>\n",
       "      <th>1306017</th>\n",
       "      <td>what are not scam online services for essay writing</td>\n",
       "      <td>1</td>\n",
       "    </tr>\n",
       "    <tr>\n",
       "      <th>1306025</th>\n",
       "      <td>is it just me or was prince the singer ugly as fudge</td>\n",
       "      <td>1</td>\n",
       "    </tr>\n",
       "    <tr>\n",
       "      <th>1306026</th>\n",
       "      <td>could we finally give einsteins first wife credit for her equation em c squared she deserves a lot more than that</td>\n",
       "      <td>1</td>\n",
       "    </tr>\n",
       "    <tr>\n",
       "      <th>1306031</th>\n",
       "      <td>why do jews want endless immigration to the us but israel has a wall saharonim prison and very strict immigration laws against nonjews</td>\n",
       "      <td>1</td>\n",
       "    </tr>\n",
       "    <tr>\n",
       "      <th>1306071</th>\n",
       "      <td>will oprah buy the dnc to guarantee her nomination in   like hillary did in</td>\n",
       "      <td>1</td>\n",
       "    </tr>\n",
       "    <tr>\n",
       "      <th>1306093</th>\n",
       "      <td>how is it to have intimate relation with your cousin</td>\n",
       "      <td>1</td>\n",
       "    </tr>\n",
       "    <tr>\n",
       "      <th>1306094</th>\n",
       "      <td>why is it when singers have lyrics about voices in their head religious people say they hear god and anyone stating they are being targeted by voice to brain technology are they called delusional schizo</td>\n",
       "      <td>1</td>\n",
       "    </tr>\n",
       "    <tr>\n",
       "      <th>1306099</th>\n",
       "      <td>do pakis smell of curry and shit</td>\n",
       "      <td>1</td>\n",
       "    </tr>\n",
       "    <tr>\n",
       "      <th>1306103</th>\n",
       "      <td>isnt trump right after all why should the usa be benevolent towards its neighbor mexico and not put america first when russia is invading ukraine even india imposed a blockade over nepal after an earthquake</td>\n",
       "      <td>1</td>\n",
       "    </tr>\n",
       "    <tr>\n",
       "      <th>1306112</th>\n",
       "      <td>are you ashamed of being an indian</td>\n",
       "      <td>1</td>\n",
       "    </tr>\n",
       "  </tbody>\n",
       "</table>\n",
       "<p>80765 rows × 2 columns</p>\n",
       "</div>"
      ],
      "text/plain": [
       "                                                                                                                                                                                                          question_text  \\\n",
       "22       has the united states become the largest dictatorship in the world                                                                                                                                               \n",
       "30       which babies are more sweeter to their parents dark skin babies or light skin babies                                                                                                                             \n",
       "110      if blacks support school choice and mandatory sentencing for criminals why dont they vote republican                                                                                                             \n",
       "114      i am gay boy and i love my cousin boy he is sexy but i dont know what to do he is hot and i want to see his di what should i do                                                                                  \n",
       "115      which races have the smallest penis                                                                                                                                                                              \n",
       "...                                      ...                                                                                                                                                                              \n",
       "1306093  how is it to have intimate relation with your cousin                                                                                                                                                             \n",
       "1306094  why is it when singers have lyrics about voices in their head religious people say they hear god and anyone stating they are being targeted by voice to brain technology are they called delusional schizo       \n",
       "1306099  do pakis smell of curry and shit                                                                                                                                                                                 \n",
       "1306103  isnt trump right after all why should the usa be benevolent towards its neighbor mexico and not put america first when russia is invading ukraine even india imposed a blockade over nepal after an earthquake   \n",
       "1306112  are you ashamed of being an indian                                                                                                                                                                               \n",
       "\n",
       "         target  \n",
       "22       1       \n",
       "30       1       \n",
       "110      1       \n",
       "114      1       \n",
       "115      1       \n",
       "...     ..       \n",
       "1306093  1       \n",
       "1306094  1       \n",
       "1306099  1       \n",
       "1306103  1       \n",
       "1306112  1       \n",
       "\n",
       "[80765 rows x 2 columns]"
      ]
     },
     "execution_count": 49,
     "metadata": {},
     "output_type": "execute_result"
    }
   ],
   "source": [
    "QuoraQuestions[QuoraQuestions['target'] == 1]"
   ]
  },
  {
   "cell_type": "markdown",
   "metadata": {},
   "source": [
    "# converting to word tokens"
   ]
  },
  {
   "cell_type": "code",
   "execution_count": 50,
   "metadata": {},
   "outputs": [],
   "source": [
    "#Word processing\n",
    "from nltk.tokenize import word_tokenize\n",
    "from sklearn.feature_extraction.stop_words import ENGLISH_STOP_WORDS\n",
    "#from nltk.stem import PorterStemmer\n",
    "from nltk.stem import WordNetLemmatizer"
   ]
  },
  {
   "cell_type": "code",
   "execution_count": 51,
   "metadata": {},
   "outputs": [],
   "source": [
    "#stemmer = PorterStemmer()\n",
    "lemmatizer = WordNetLemmatizer()"
   ]
  },
  {
   "cell_type": "code",
   "execution_count": 52,
   "metadata": {},
   "outputs": [],
   "source": [
    "QuoraQuestions['question_text'] = [word_tokenize(Q) for Q in QuoraQuestions['question_text']]"
   ]
  },
  {
   "cell_type": "code",
   "execution_count": 53,
   "metadata": {
    "scrolled": true
   },
   "outputs": [
    {
     "data": {
      "text/html": [
       "<div>\n",
       "<style scoped>\n",
       "    .dataframe tbody tr th:only-of-type {\n",
       "        vertical-align: middle;\n",
       "    }\n",
       "\n",
       "    .dataframe tbody tr th {\n",
       "        vertical-align: top;\n",
       "    }\n",
       "\n",
       "    .dataframe thead th {\n",
       "        text-align: right;\n",
       "    }\n",
       "</style>\n",
       "<table border=\"1\" class=\"dataframe\">\n",
       "  <thead>\n",
       "    <tr style=\"text-align: right;\">\n",
       "      <th></th>\n",
       "      <th>question_text</th>\n",
       "      <th>target</th>\n",
       "    </tr>\n",
       "  </thead>\n",
       "  <tbody>\n",
       "    <tr>\n",
       "      <th>22</th>\n",
       "      <td>[has, the, united, states, become, the, largest, dictatorship, in, the, world]</td>\n",
       "      <td>1</td>\n",
       "    </tr>\n",
       "    <tr>\n",
       "      <th>30</th>\n",
       "      <td>[which, babies, are, more, sweeter, to, their, parents, dark, skin, babies, or, light, skin, babies]</td>\n",
       "      <td>1</td>\n",
       "    </tr>\n",
       "    <tr>\n",
       "      <th>110</th>\n",
       "      <td>[if, blacks, support, school, choice, and, mandatory, sentencing, for, criminals, why, dont, they, vote, republican]</td>\n",
       "      <td>1</td>\n",
       "    </tr>\n",
       "    <tr>\n",
       "      <th>114</th>\n",
       "      <td>[i, am, gay, boy, and, i, love, my, cousin, boy, he, is, sexy, but, i, dont, know, what, to, do, he, is, hot, and, i, want, to, see, his, di, what, should, i, do]</td>\n",
       "      <td>1</td>\n",
       "    </tr>\n",
       "    <tr>\n",
       "      <th>115</th>\n",
       "      <td>[which, races, have, the, smallest, penis]</td>\n",
       "      <td>1</td>\n",
       "    </tr>\n",
       "    <tr>\n",
       "      <th>119</th>\n",
       "      <td>[why, do, females, find, penises, ugly]</td>\n",
       "      <td>1</td>\n",
       "    </tr>\n",
       "    <tr>\n",
       "      <th>127</th>\n",
       "      <td>[how, do, i, marry, an, american, woman, for, a, green, card, how, much, do, they, charge]</td>\n",
       "      <td>1</td>\n",
       "    </tr>\n",
       "    <tr>\n",
       "      <th>144</th>\n",
       "      <td>[why, do, europeans, say, theyre, the, superior, race, when, in, fact, it, took, them, over, years, until, mid, th, century, to, surpass, chinas, largest, economy]</td>\n",
       "      <td>1</td>\n",
       "    </tr>\n",
       "    <tr>\n",
       "      <th>156</th>\n",
       "      <td>[did, julius, caesar, bring, a, tyrannosaurus, rex, on, his, campaigns, to, frighten, the, celts, into, submission]</td>\n",
       "      <td>1</td>\n",
       "    </tr>\n",
       "    <tr>\n",
       "      <th>167</th>\n",
       "      <td>[in, what, manner, has, republican, backing, of, states, rights, been, hypocritical, and, what, ways, have, they, actually, restricted, the, ability, of, states, to, make, their, own, laws]</td>\n",
       "      <td>1</td>\n",
       "    </tr>\n",
       "    <tr>\n",
       "      <th>168</th>\n",
       "      <td>[would, europeans, continue, to, participate, in, the, arab, war, for, the, destruction, of, israel, and, killing, all, the, jews, if, they, knew, that, god, himself, defends, israel, and, he, will, do, to, europeans, what, the, arabs, want, to, do, to, the, jews]</td>\n",
       "      <td>1</td>\n",
       "    </tr>\n",
       "    <tr>\n",
       "      <th>208</th>\n",
       "      <td>[why, are, americans, british, canadians, australians, and, new, zealanders, considered, to, be, separate, nations, even, when, they, all, speak, the, same, language]</td>\n",
       "      <td>1</td>\n",
       "    </tr>\n",
       "    <tr>\n",
       "      <th>214</th>\n",
       "      <td>[if, both, honey, singh, and, justin, bieber, fall, from, the, th, floor, who, will, survive]</td>\n",
       "      <td>1</td>\n",
       "    </tr>\n",
       "    <tr>\n",
       "      <th>224</th>\n",
       "      <td>[why, are, liberal, minorities, so, voilent, towards, poeple, with, diffrent, poltical, beleifs, should, supporting, trump, be, a, sentence, to, be, imprisoned, or, savegely, attacked]</td>\n",
       "      <td>1</td>\n",
       "    </tr>\n",
       "    <tr>\n",
       "      <th>235</th>\n",
       "      <td>[can, we, all, now, admit, that, president, trump, doesnt, really, want, congress, to, pass, legislation, replacing, daca, to, protect, dreamers]</td>\n",
       "      <td>1</td>\n",
       "    </tr>\n",
       "    <tr>\n",
       "      <th>260</th>\n",
       "      <td>[the, american, economy, is, growing, under, trump, ’, s, presidency, why, do, people, still, hate, trump, as, a, president]</td>\n",
       "      <td>1</td>\n",
       "    </tr>\n",
       "    <tr>\n",
       "      <th>286</th>\n",
       "      <td>[why, dont, poor, countries, print, more, money, to, use, for, paying, for, education, etc]</td>\n",
       "      <td>1</td>\n",
       "    </tr>\n",
       "    <tr>\n",
       "      <th>289</th>\n",
       "      <td>[why, do, all, the, people, who, claim, florida, has, great, weather, go, silent, every, time, theres, a, new, hurricane]</td>\n",
       "      <td>1</td>\n",
       "    </tr>\n",
       "    <tr>\n",
       "      <th>291</th>\n",
       "      <td>[could, the, leader, of, iran, be, dead, many, years, ago, and, the, leader, of, todays, iran, is, actually, a, fake, leader]</td>\n",
       "      <td>1</td>\n",
       "    </tr>\n",
       "    <tr>\n",
       "      <th>302</th>\n",
       "      <td>[why, do, the, liberals, who, run, schools, choose, not, to, have, controlled, access, the, kids, in, florida, were, killed, due, to, an, unlocked, door]</td>\n",
       "      <td>1</td>\n",
       "    </tr>\n",
       "    <tr>\n",
       "      <th>315</th>\n",
       "      <td>[why, did, pakistan, pass, the, sikh, marriage, act, before, india]</td>\n",
       "      <td>1</td>\n",
       "    </tr>\n",
       "    <tr>\n",
       "      <th>333</th>\n",
       "      <td>[how, do, i, train, my, dogs, to, kill, raccoons]</td>\n",
       "      <td>1</td>\n",
       "    </tr>\n",
       "    <tr>\n",
       "      <th>362</th>\n",
       "      <td>[is, there, any, woman, other, than, muslim, who, is, happy, after, marrying, a, muslim, guy, as, there, are, a, lot, of, answers, on, quora, about, love, jihad, and, all, of, them, suffered, a, lot, after, marrying, a, muslim, guy]</td>\n",
       "      <td>1</td>\n",
       "    </tr>\n",
       "    <tr>\n",
       "      <th>397</th>\n",
       "      <td>[do, moms, have, sex, with, their, sons]</td>\n",
       "      <td>1</td>\n",
       "    </tr>\n",
       "    <tr>\n",
       "      <th>400</th>\n",
       "      <td>[why, did, the, pope, say, that, muslims, are, a, curse, to, this, world]</td>\n",
       "      <td>1</td>\n",
       "    </tr>\n",
       "    <tr>\n",
       "      <th>439</th>\n",
       "      <td>[how, peoples, in, india, seems, hypocritical, about, womans, empowerment]</td>\n",
       "      <td>1</td>\n",
       "    </tr>\n",
       "    <tr>\n",
       "      <th>460</th>\n",
       "      <td>[how, much, more, political, fumbling, will, it, take, for, republicans, to, turn, on, trump]</td>\n",
       "      <td>1</td>\n",
       "    </tr>\n",
       "    <tr>\n",
       "      <th>496</th>\n",
       "      <td>[why, do, americans, prefer, just, to, not, show, up, somewhere, rather, than, face, even, the, mildest, of, conflicts, my, colleagues, and, i, have, noted, a, growing, number, of, people, who, skip, any, face, to, face, meetings, without, any, explanation, at, all]</td>\n",
       "      <td>1</td>\n",
       "    </tr>\n",
       "    <tr>\n",
       "      <th>538</th>\n",
       "      <td>[liberals, are, prochoice, but, the, choices, must, be, approved, by, them, first, is, this, an, accurate, description, of, liberals]</td>\n",
       "      <td>1</td>\n",
       "    </tr>\n",
       "    <tr>\n",
       "      <th>544</th>\n",
       "      <td>[why, are, south, indian, dishes, which, are, prepared, by, north, indians, more, tasty, than, dishes, prepared, by, south, indian, restaurants]</td>\n",
       "      <td>1</td>\n",
       "    </tr>\n",
       "    <tr>\n",
       "      <th>...</th>\n",
       "      <td>...</td>\n",
       "      <td>...</td>\n",
       "    </tr>\n",
       "    <tr>\n",
       "      <th>1305724</th>\n",
       "      <td>[when, did, you, feel, first, time, yourself, as, shamed, as, being, an, indian, why, it, so]</td>\n",
       "      <td>1</td>\n",
       "    </tr>\n",
       "    <tr>\n",
       "      <th>1305732</th>\n",
       "      <td>[where, can, i, hire, a, young, stud, so, my, teenager, daughter, can, experience, her, first, creampie, for, her, birthday, she, is, on, birth, control, and, is, emotionally, mature]</td>\n",
       "      <td>1</td>\n",
       "    </tr>\n",
       "    <tr>\n",
       "      <th>1305742</th>\n",
       "      <td>[why, nobody, talks, about, the, stupidity, of, the, american, public, who, elected, the, worst, president, in, us, history]</td>\n",
       "      <td>1</td>\n",
       "    </tr>\n",
       "    <tr>\n",
       "      <th>1305782</th>\n",
       "      <td>[is, erdogan, turning, ataturk, ’, s, democratic, turkey, into, an, islamic, state, by, his, hatred, speech, against, kurds, and, neighboring, countries]</td>\n",
       "      <td>1</td>\n",
       "    </tr>\n",
       "    <tr>\n",
       "      <th>1305800</th>\n",
       "      <td>[why, isnt, the, former, attorney, general, loretta, lynch, involved, with, the, mueller, investigation, it, would, appear, to, me, that, being, comeys, boss, she, might, have, instructed, him, to, go, softly, on, hillary, clinton, with, her, email, debacle]</td>\n",
       "      <td>1</td>\n",
       "    </tr>\n",
       "    <tr>\n",
       "      <th>1305803</th>\n",
       "      <td>[what, percentage, of, women, cheat, on, their, hubbies]</td>\n",
       "      <td>1</td>\n",
       "    </tr>\n",
       "    <tr>\n",
       "      <th>1305824</th>\n",
       "      <td>[is, someone, diagnosed, with, aspergers, syndrome, stupid, and, evil]</td>\n",
       "      <td>1</td>\n",
       "    </tr>\n",
       "    <tr>\n",
       "      <th>1305826</th>\n",
       "      <td>[why, are, israeli, men, short]</td>\n",
       "      <td>1</td>\n",
       "    </tr>\n",
       "    <tr>\n",
       "      <th>1305851</th>\n",
       "      <td>[some, psychiatrists, in, iran, claim, that, they, can, definitely, cure, homosexuality, is, that, possible, if, not, why, do, they, claim, that, they, have, many, patients, who, are, cured, by, them]</td>\n",
       "      <td>1</td>\n",
       "    </tr>\n",
       "    <tr>\n",
       "      <th>1305872</th>\n",
       "      <td>[what, happens, to, a, state, if, its, population, demographically, changed, by, muslims, do, they, demand, for, separate, nation, and, harass, nonmuslims, who, is, more, secular]</td>\n",
       "      <td>1</td>\n",
       "    </tr>\n",
       "    <tr>\n",
       "      <th>1305912</th>\n",
       "      <td>[do, the, chinese, people, eat, bath, soap]</td>\n",
       "      <td>1</td>\n",
       "    </tr>\n",
       "    <tr>\n",
       "      <th>1305923</th>\n",
       "      <td>[does, this, congress, have, blood, on, their, hands, for, allowing, mass, shootings, to, occur, without, properly, addressing, gun, control]</td>\n",
       "      <td>1</td>\n",
       "    </tr>\n",
       "    <tr>\n",
       "      <th>1305925</th>\n",
       "      <td>[why, are, men, selective]</td>\n",
       "      <td>1</td>\n",
       "    </tr>\n",
       "    <tr>\n",
       "      <th>1305935</th>\n",
       "      <td>[why, do, girls, not, prefer, to, become, a, physicist]</td>\n",
       "      <td>1</td>\n",
       "    </tr>\n",
       "    <tr>\n",
       "      <th>1305946</th>\n",
       "      <td>[why, do, the, people, from, kannur, in, kerala, adjust, better, in, mangalore, than, kannadigas, from, chikmagalur, hassan, in, karnataka]</td>\n",
       "      <td>1</td>\n",
       "    </tr>\n",
       "    <tr>\n",
       "      <th>1305949</th>\n",
       "      <td>[why, is, there, a, trend, for, dresses, to, reveal, the, body, more, than, they, are, supposed, to]</td>\n",
       "      <td>1</td>\n",
       "    </tr>\n",
       "    <tr>\n",
       "      <th>1305956</th>\n",
       "      <td>[should, i, give, my, child, a, panic, button, or, pepper, spray, for, the, nurse, in, case, the, school, tries, to, vaccinate, himher, in, spite, of, me, declining, to, authorize, it]</td>\n",
       "      <td>1</td>\n",
       "    </tr>\n",
       "    <tr>\n",
       "      <th>1305961</th>\n",
       "      <td>[is, it, true, that, hydrogen, is, a, light, odorless, gas, which, given, enough, time, turns, into, people]</td>\n",
       "      <td>1</td>\n",
       "    </tr>\n",
       "    <tr>\n",
       "      <th>1305980</th>\n",
       "      <td>[it, is, posible, to, kill, months, baby]</td>\n",
       "      <td>1</td>\n",
       "    </tr>\n",
       "    <tr>\n",
       "      <th>1305995</th>\n",
       "      <td>[is, it, a, fact, that, the, europeans, are, the, biggest, criminals, in, the, history, of, humanity]</td>\n",
       "      <td>1</td>\n",
       "    </tr>\n",
       "    <tr>\n",
       "      <th>1306017</th>\n",
       "      <td>[what, are, not, scam, online, services, for, essay, writing]</td>\n",
       "      <td>1</td>\n",
       "    </tr>\n",
       "    <tr>\n",
       "      <th>1306025</th>\n",
       "      <td>[is, it, just, me, or, was, prince, the, singer, ugly, as, fudge]</td>\n",
       "      <td>1</td>\n",
       "    </tr>\n",
       "    <tr>\n",
       "      <th>1306026</th>\n",
       "      <td>[could, we, finally, give, einsteins, first, wife, credit, for, her, equation, em, c, squared, she, deserves, a, lot, more, than, that]</td>\n",
       "      <td>1</td>\n",
       "    </tr>\n",
       "    <tr>\n",
       "      <th>1306031</th>\n",
       "      <td>[why, do, jews, want, endless, immigration, to, the, us, but, israel, has, a, wall, saharonim, prison, and, very, strict, immigration, laws, against, nonjews]</td>\n",
       "      <td>1</td>\n",
       "    </tr>\n",
       "    <tr>\n",
       "      <th>1306071</th>\n",
       "      <td>[will, oprah, buy, the, dnc, to, guarantee, her, nomination, in, like, hillary, did, in]</td>\n",
       "      <td>1</td>\n",
       "    </tr>\n",
       "    <tr>\n",
       "      <th>1306093</th>\n",
       "      <td>[how, is, it, to, have, intimate, relation, with, your, cousin]</td>\n",
       "      <td>1</td>\n",
       "    </tr>\n",
       "    <tr>\n",
       "      <th>1306094</th>\n",
       "      <td>[why, is, it, when, singers, have, lyrics, about, voices, in, their, head, religious, people, say, they, hear, god, and, anyone, stating, they, are, being, targeted, by, voice, to, brain, technology, are, they, called, delusional, schizo]</td>\n",
       "      <td>1</td>\n",
       "    </tr>\n",
       "    <tr>\n",
       "      <th>1306099</th>\n",
       "      <td>[do, pakis, smell, of, curry, and, shit]</td>\n",
       "      <td>1</td>\n",
       "    </tr>\n",
       "    <tr>\n",
       "      <th>1306103</th>\n",
       "      <td>[isnt, trump, right, after, all, why, should, the, usa, be, benevolent, towards, its, neighbor, mexico, and, not, put, america, first, when, russia, is, invading, ukraine, even, india, imposed, a, blockade, over, nepal, after, an, earthquake]</td>\n",
       "      <td>1</td>\n",
       "    </tr>\n",
       "    <tr>\n",
       "      <th>1306112</th>\n",
       "      <td>[are, you, ashamed, of, being, an, indian]</td>\n",
       "      <td>1</td>\n",
       "    </tr>\n",
       "  </tbody>\n",
       "</table>\n",
       "<p>80765 rows × 2 columns</p>\n",
       "</div>"
      ],
      "text/plain": [
       "                                                                                                                                                                                                                                              question_text  \\\n",
       "22       [has, the, united, states, become, the, largest, dictatorship, in, the, world]                                                                                                                                                                       \n",
       "30       [which, babies, are, more, sweeter, to, their, parents, dark, skin, babies, or, light, skin, babies]                                                                                                                                                 \n",
       "110      [if, blacks, support, school, choice, and, mandatory, sentencing, for, criminals, why, dont, they, vote, republican]                                                                                                                                 \n",
       "114      [i, am, gay, boy, and, i, love, my, cousin, boy, he, is, sexy, but, i, dont, know, what, to, do, he, is, hot, and, i, want, to, see, his, di, what, should, i, do]                                                                                   \n",
       "115      [which, races, have, the, smallest, penis]                                                                                                                                                                                                           \n",
       "...                                             ...                                                                                                                                                                                                           \n",
       "1306093  [how, is, it, to, have, intimate, relation, with, your, cousin]                                                                                                                                                                                      \n",
       "1306094  [why, is, it, when, singers, have, lyrics, about, voices, in, their, head, religious, people, say, they, hear, god, and, anyone, stating, they, are, being, targeted, by, voice, to, brain, technology, are, they, called, delusional, schizo]       \n",
       "1306099  [do, pakis, smell, of, curry, and, shit]                                                                                                                                                                                                             \n",
       "1306103  [isnt, trump, right, after, all, why, should, the, usa, be, benevolent, towards, its, neighbor, mexico, and, not, put, america, first, when, russia, is, invading, ukraine, even, india, imposed, a, blockade, over, nepal, after, an, earthquake]   \n",
       "1306112  [are, you, ashamed, of, being, an, indian]                                                                                                                                                                                                           \n",
       "\n",
       "         target  \n",
       "22       1       \n",
       "30       1       \n",
       "110      1       \n",
       "114      1       \n",
       "115      1       \n",
       "...     ..       \n",
       "1306093  1       \n",
       "1306094  1       \n",
       "1306099  1       \n",
       "1306103  1       \n",
       "1306112  1       \n",
       "\n",
       "[80765 rows x 2 columns]"
      ]
     },
     "execution_count": 53,
     "metadata": {},
     "output_type": "execute_result"
    }
   ],
   "source": [
    "QuoraQuestions[QuoraQuestions['target'] == 1]"
   ]
  },
  {
   "cell_type": "markdown",
   "metadata": {},
   "source": [
    "# remove stop words, stemming and lemmatization"
   ]
  },
  {
   "cell_type": "code",
   "execution_count": 54,
   "metadata": {},
   "outputs": [],
   "source": [
    "def remove_stop_words(words):\n",
    "    result = [i for i in words if i not in ENGLISH_STOP_WORDS]\n",
    "    return result"
   ]
  },
  {
   "cell_type": "code",
   "execution_count": 77,
   "metadata": {},
   "outputs": [],
   "source": [
    "def remove_onecharacters(words):\n",
    "    result = [i for i in words if len(i)>1]\n",
    "    return result"
   ]
  },
  {
   "cell_type": "code",
   "execution_count": 78,
   "metadata": {},
   "outputs": [],
   "source": [
    "def word_lemmatizer(words):\n",
    "    return [lemmatizer.lemmatize(o) for o in words]"
   ]
  },
  {
   "cell_type": "code",
   "execution_count": 80,
   "metadata": {},
   "outputs": [],
   "source": [
    "def clean_token_pipeline(words):\n",
    "    cleaning_utils = [remove_stop_words,word_lemmatizer,remove_onecharacters]\n",
    "    for o in cleaning_utils:\n",
    "        words = o(words)\n",
    "    return words"
   ]
  },
  {
   "cell_type": "code",
   "execution_count": 81,
   "metadata": {},
   "outputs": [],
   "source": [
    "QuoraQuestions['question_text'] = [clean_token_pipeline(w) for w in QuoraQuestions['question_text']]"
   ]
  },
  {
   "cell_type": "code",
   "execution_count": 82,
   "metadata": {
    "scrolled": true
   },
   "outputs": [
    {
     "data": {
      "text/html": [
       "<div>\n",
       "<style scoped>\n",
       "    .dataframe tbody tr th:only-of-type {\n",
       "        vertical-align: middle;\n",
       "    }\n",
       "\n",
       "    .dataframe tbody tr th {\n",
       "        vertical-align: top;\n",
       "    }\n",
       "\n",
       "    .dataframe thead th {\n",
       "        text-align: right;\n",
       "    }\n",
       "</style>\n",
       "<table border=\"1\" class=\"dataframe\">\n",
       "  <thead>\n",
       "    <tr style=\"text-align: right;\">\n",
       "      <th></th>\n",
       "      <th>question_text</th>\n",
       "      <th>target</th>\n",
       "    </tr>\n",
       "  </thead>\n",
       "  <tbody>\n",
       "    <tr>\n",
       "      <th>0</th>\n",
       "      <td>[did, quebec, nationalist, province, nation]</td>\n",
       "      <td>0</td>\n",
       "    </tr>\n",
       "    <tr>\n",
       "      <th>1</th>\n",
       "      <td>[adopted, dog, encourage, people, adopt, shop]</td>\n",
       "      <td>0</td>\n",
       "    </tr>\n",
       "    <tr>\n",
       "      <th>2</th>\n",
       "      <td>[doe, velocity, affect, time, doe, velocity, affect, space, geometry]</td>\n",
       "      <td>0</td>\n",
       "    </tr>\n",
       "    <tr>\n",
       "      <th>3</th>\n",
       "      <td>[did, otto, von, guericke, used, magdeburg, hemisphere]</td>\n",
       "      <td>0</td>\n",
       "    </tr>\n",
       "    <tr>\n",
       "      <th>4</th>\n",
       "      <td>[convert, montra, helicon, mountain, bike, just, changing, tyre]</td>\n",
       "      <td>0</td>\n",
       "    </tr>\n",
       "    <tr>\n",
       "      <th>5</th>\n",
       "      <td>[gaza, slowly, auschwitz, dachau, treblinka, palestinian]</td>\n",
       "      <td>0</td>\n",
       "    </tr>\n",
       "    <tr>\n",
       "      <th>6</th>\n",
       "      <td>[doe, quora, automatically, ban, conservative, opinion, reported, doe, liberal, view]</td>\n",
       "      <td>0</td>\n",
       "    </tr>\n",
       "    <tr>\n",
       "      <th>7</th>\n",
       "      <td>[crazy, wash, wipe, grocery, germ]</td>\n",
       "      <td>0</td>\n",
       "    </tr>\n",
       "    <tr>\n",
       "      <th>8</th>\n",
       "      <td>[thing, dressing, moderately, different, dressing, modestly]</td>\n",
       "      <td>0</td>\n",
       "    </tr>\n",
       "    <tr>\n",
       "      <th>9</th>\n",
       "      <td>[just, phase, ignorant, people, loved, completely, disregarding, feelingslives, way, feel, temporarily, ease, did, thing, change]</td>\n",
       "      <td>0</td>\n",
       "    </tr>\n",
       "    <tr>\n",
       "      <th>10</th>\n",
       "      <td>[say, feminism]</td>\n",
       "      <td>0</td>\n",
       "    </tr>\n",
       "    <tr>\n",
       "      <th>11</th>\n",
       "      <td>[calgary, flame, founded]</td>\n",
       "      <td>0</td>\n",
       "    </tr>\n",
       "    <tr>\n",
       "      <th>12</th>\n",
       "      <td>[dumbest, possibly, true, explanation, trump, elected]</td>\n",
       "      <td>0</td>\n",
       "    </tr>\n",
       "    <tr>\n",
       "      <th>13</th>\n",
       "      <td>[use, external, hard, disk, data, storagewill, data, affected]</td>\n",
       "      <td>0</td>\n",
       "    </tr>\n",
       "    <tr>\n",
       "      <th>14</th>\n",
       "      <td>[living, home, boyfriend, love, boyfriend, home, progress, situation]</td>\n",
       "      <td>0</td>\n",
       "    </tr>\n",
       "    <tr>\n",
       "      <th>15</th>\n",
       "      <td>[know, bram, fischer, rivonia, trial]</td>\n",
       "      <td>0</td>\n",
       "    </tr>\n",
       "    <tr>\n",
       "      <th>16</th>\n",
       "      <td>[difficult, good, instructor, class, near]</td>\n",
       "      <td>0</td>\n",
       "    </tr>\n",
       "    <tr>\n",
       "      <th>17</th>\n",
       "      <td>[licked, skin, corpse]</td>\n",
       "      <td>0</td>\n",
       "    </tr>\n",
       "    <tr>\n",
       "      <th>18</th>\n",
       "      <td>[think, amazon, adopt, house, approach, manufacturing, similar, tesla, space, business, model]</td>\n",
       "      <td>0</td>\n",
       "    </tr>\n",
       "    <tr>\n",
       "      <th>19</th>\n",
       "      <td>[barony, exist, county, palatine]</td>\n",
       "      <td>0</td>\n",
       "    </tr>\n",
       "    <tr>\n",
       "      <th>20</th>\n",
       "      <td>[know, girl, sex, sex]</td>\n",
       "      <td>0</td>\n",
       "    </tr>\n",
       "    <tr>\n",
       "      <th>21</th>\n",
       "      <td>[fast, learner, professional, career, personal, life]</td>\n",
       "      <td>0</td>\n",
       "    </tr>\n",
       "    <tr>\n",
       "      <th>23</th>\n",
       "      <td>[strangest, phenomenon, know, witnessed, generated, area, electronics, explanation, term, modern, physic]</td>\n",
       "      <td>0</td>\n",
       "    </tr>\n",
       "    <tr>\n",
       "      <th>24</th>\n",
       "      <td>[leave, friend, new]</td>\n",
       "      <td>0</td>\n",
       "    </tr>\n",
       "    <tr>\n",
       "      <th>25</th>\n",
       "      <td>[make, amazon, alexa, trigger, event, browser]</td>\n",
       "      <td>0</td>\n",
       "    </tr>\n",
       "    <tr>\n",
       "      <th>26</th>\n",
       "      <td>[havent, democracy, went, fledged, war, stop]</td>\n",
       "      <td>0</td>\n",
       "    </tr>\n",
       "    <tr>\n",
       "      <th>27</th>\n",
       "      <td>[cbse, month]</td>\n",
       "      <td>0</td>\n",
       "    </tr>\n",
       "    <tr>\n",
       "      <th>28</th>\n",
       "      <td>[know, visiting, mcleodganj, doing, triund, trek]</td>\n",
       "      <td>0</td>\n",
       "    </tr>\n",
       "    <tr>\n",
       "      <th>29</th>\n",
       "      <td>[modern, military, submarine, reduce, noise, achieve, stealth]</td>\n",
       "      <td>0</td>\n",
       "    </tr>\n",
       "    <tr>\n",
       "      <th>31</th>\n",
       "      <td>[remove, black, head, nose]</td>\n",
       "      <td>0</td>\n",
       "    </tr>\n",
       "    <tr>\n",
       "      <th>...</th>\n",
       "      <td>...</td>\n",
       "      <td>...</td>\n",
       "    </tr>\n",
       "    <tr>\n",
       "      <th>1306087</th>\n",
       "      <td>[different, student, grouping, teacher, use]</td>\n",
       "      <td>0</td>\n",
       "    </tr>\n",
       "    <tr>\n",
       "      <th>1306088</th>\n",
       "      <td>[preparing, proposal, client, executive, team, chinese, speak, english, polite, translate, material, mandarin, badly, perceived]</td>\n",
       "      <td>0</td>\n",
       "    </tr>\n",
       "    <tr>\n",
       "      <th>1306089</th>\n",
       "      <td>[live, uk, diagnosed, depression, signed, work]</td>\n",
       "      <td>0</td>\n",
       "    </tr>\n",
       "    <tr>\n",
       "      <th>1306090</th>\n",
       "      <td>[believe, china, surpass, soviet, union, military, economic]</td>\n",
       "      <td>0</td>\n",
       "    </tr>\n",
       "    <tr>\n",
       "      <th>1306091</th>\n",
       "      <td>[trump, funding, rally, advertising, promoting, elected]</td>\n",
       "      <td>0</td>\n",
       "    </tr>\n",
       "    <tr>\n",
       "      <th>1306092</th>\n",
       "      <td>[hardly, talk, reading, history, feel, bad, especially, woman, just, stop, talking, like]</td>\n",
       "      <td>0</td>\n",
       "    </tr>\n",
       "    <tr>\n",
       "      <th>1306095</th>\n",
       "      <td>[doe, ginger, plant, naturally, contain, sugar]</td>\n",
       "      <td>0</td>\n",
       "    </tr>\n",
       "    <tr>\n",
       "      <th>1306096</th>\n",
       "      <td>[technological, advance, medicine, doing, harm, good, humanity]</td>\n",
       "      <td>0</td>\n",
       "    </tr>\n",
       "    <tr>\n",
       "      <th>1306097</th>\n",
       "      <td>[pa, class, math, mark, board, cbse, good, mark]</td>\n",
       "      <td>0</td>\n",
       "    </tr>\n",
       "    <tr>\n",
       "      <th>1306098</th>\n",
       "      <td>[think, physical, trait, born, affect, personality]</td>\n",
       "      <td>0</td>\n",
       "    </tr>\n",
       "    <tr>\n",
       "      <th>1306100</th>\n",
       "      <td>[quora, good, downvoting, answer, voting]</td>\n",
       "      <td>0</td>\n",
       "    </tr>\n",
       "    <tr>\n",
       "      <th>1306101</th>\n",
       "      <td>[wahabi, muslim, puritan]</td>\n",
       "      <td>0</td>\n",
       "    </tr>\n",
       "    <tr>\n",
       "      <th>1306102</th>\n",
       "      <td>[step, live, normal, life, suffer, social, anxiety, unable, obtain, job, bc, shut, interview, mind, completely, blank, unable, form, complete, sentence, ve, struggled, life]</td>\n",
       "      <td>0</td>\n",
       "    </tr>\n",
       "    <tr>\n",
       "      <th>1306104</th>\n",
       "      <td>[late, career, creative, advertising]</td>\n",
       "      <td>0</td>\n",
       "    </tr>\n",
       "    <tr>\n",
       "      <th>1306105</th>\n",
       "      <td>[difference, filteration, work, liver, filteration, work, kidney]</td>\n",
       "      <td>0</td>\n",
       "    </tr>\n",
       "    <tr>\n",
       "      <th>1306106</th>\n",
       "      <td>[universe, popped, existence, whats, stop, popping, existence, someday]</td>\n",
       "      <td>0</td>\n",
       "    </tr>\n",
       "    <tr>\n",
       "      <th>1306107</th>\n",
       "      <td>[doe, shared, service, technology, team, measure, value, dev, team]</td>\n",
       "      <td>0</td>\n",
       "    </tr>\n",
       "    <tr>\n",
       "      <th>1306108</th>\n",
       "      <td>[dsatm, civil, engineering]</td>\n",
       "      <td>0</td>\n",
       "    </tr>\n",
       "    <tr>\n",
       "      <th>1306109</th>\n",
       "      <td>[know, problem, depends, solely, boundary, geometry, solved, simple, example, calculation, area, convexhull, need, example, physic, chemistry, biology, know]</td>\n",
       "      <td>0</td>\n",
       "    </tr>\n",
       "    <tr>\n",
       "      <th>1306110</th>\n",
       "      <td>[comic, idea, tube, video, shoot]</td>\n",
       "      <td>0</td>\n",
       "    </tr>\n",
       "    <tr>\n",
       "      <th>1306111</th>\n",
       "      <td>[million, bitcoin, sell, pay, capital, gain, tax, quit, work, ordinary, income, year]</td>\n",
       "      <td>0</td>\n",
       "    </tr>\n",
       "    <tr>\n",
       "      <th>1306113</th>\n",
       "      <td>[method, determine, fossil, age, th, std]</td>\n",
       "      <td>0</td>\n",
       "    </tr>\n",
       "    <tr>\n",
       "      <th>1306114</th>\n",
       "      <td>[story, today]</td>\n",
       "      <td>0</td>\n",
       "    </tr>\n",
       "    <tr>\n",
       "      <th>1306115</th>\n",
       "      <td>[consume, gm, protein, daily, vegetarian, non, vegetarian, diet, seperately]</td>\n",
       "      <td>0</td>\n",
       "    </tr>\n",
       "    <tr>\n",
       "      <th>1306116</th>\n",
       "      <td>[good, career, option, msc, chemistry, student, qualifying, gate]</td>\n",
       "      <td>0</td>\n",
       "    </tr>\n",
       "    <tr>\n",
       "      <th>1306117</th>\n",
       "      <td>[technical, skill, need, computer, science, undergrad]</td>\n",
       "      <td>0</td>\n",
       "    </tr>\n",
       "    <tr>\n",
       "      <th>1306118</th>\n",
       "      <td>[doe, ece, good, job, prospect, usa, like, india, job, present]</td>\n",
       "      <td>0</td>\n",
       "    </tr>\n",
       "    <tr>\n",
       "      <th>1306119</th>\n",
       "      <td>[foam, insulation, toxic]</td>\n",
       "      <td>0</td>\n",
       "    </tr>\n",
       "    <tr>\n",
       "      <th>1306120</th>\n",
       "      <td>[start, research, project, based, biochemistry, ug, level]</td>\n",
       "      <td>0</td>\n",
       "    </tr>\n",
       "    <tr>\n",
       "      <th>1306121</th>\n",
       "      <td>[win, battle, wolverine, puma]</td>\n",
       "      <td>0</td>\n",
       "    </tr>\n",
       "  </tbody>\n",
       "</table>\n",
       "<p>1224622 rows × 2 columns</p>\n",
       "</div>"
      ],
      "text/plain": [
       "                                                                 question_text  \\\n",
       "0        [did, quebec, nationalist, province, nation]                            \n",
       "1        [adopted, dog, encourage, people, adopt, shop]                          \n",
       "2        [doe, velocity, affect, time, doe, velocity, affect, space, geometry]   \n",
       "3        [did, otto, von, guericke, used, magdeburg, hemisphere]                 \n",
       "4        [convert, montra, helicon, mountain, bike, just, changing, tyre]        \n",
       "...                                                                   ...        \n",
       "1306117  [technical, skill, need, computer, science, undergrad]                  \n",
       "1306118  [doe, ece, good, job, prospect, usa, like, india, job, present]         \n",
       "1306119  [foam, insulation, toxic]                                               \n",
       "1306120  [start, research, project, based, biochemistry, ug, level]              \n",
       "1306121  [win, battle, wolverine, puma]                                          \n",
       "\n",
       "         target  \n",
       "0        0       \n",
       "1        0       \n",
       "2        0       \n",
       "3        0       \n",
       "4        0       \n",
       "...     ..       \n",
       "1306117  0       \n",
       "1306118  0       \n",
       "1306119  0       \n",
       "1306120  0       \n",
       "1306121  0       \n",
       "\n",
       "[1224622 rows x 2 columns]"
      ]
     },
     "execution_count": 82,
     "metadata": {},
     "output_type": "execute_result"
    }
   ],
   "source": [
    "QuoraQuestions[QuoraQuestions['target'] == 0]"
   ]
  },
  {
   "cell_type": "code",
   "execution_count": 83,
   "metadata": {
    "scrolled": true
   },
   "outputs": [
    {
     "name": "stdout",
     "output_type": "stream",
     "text": [
      " highest number of tokens 69 in rowNumber 521967\n"
     ]
    }
   ],
   "source": [
    "bigListLength = 0\n",
    "for i in range(QuoraQuestions.shape[0]):\n",
    "    temp = len(QuoraQuestions['question_text'].iloc[i])\n",
    "    if temp > bigListLength:\n",
    "        bigListLength = temp\n",
    "        rowNumber = i\n",
    "print(\" highest number of tokens {0} in rowNumber {1}\".format(bigListLength,rowNumber))"
   ]
  },
  {
   "cell_type": "code",
   "execution_count": 84,
   "metadata": {
    "scrolled": true
   },
   "outputs": [
    {
     "data": {
      "text/plain": [
       "['star',\n",
       " 'trek',\n",
       " 'did',\n",
       " 'spoiler',\n",
       " 'spoiler',\n",
       " 'spoiler',\n",
       " 'spoiler',\n",
       " 'make',\n",
       " 'warping',\n",
       " 'look',\n",
       " 'quite',\n",
       " 'bit',\n",
       " 'like',\n",
       " 'hyperspace',\n",
       " 'jump',\n",
       " 'world',\n",
       " 'bright',\n",
       " 'particle',\n",
       " 'soon',\n",
       " 'jumped',\n",
       " 'world',\n",
       " 'did',\n",
       " 'make',\n",
       " 'possible',\n",
       " 'entity',\n",
       " 'react',\n",
       " 'warp',\n",
       " 'space',\n",
       " 'separate',\n",
       " 'jump',\n",
       " 'did',\n",
       " 'spock',\n",
       " 'emotion',\n",
       " 'movie',\n",
       " 'point',\n",
       " 'hiding',\n",
       " 'enterprise',\n",
       " 'underwater',\n",
       " 'intercepted',\n",
       " 'dark',\n",
       " 'ship',\n",
       " 'come',\n",
       " 'reached',\n",
       " 'earth',\n",
       " 'far',\n",
       " 'away',\n",
       " 'heri',\n",
       " 'dont',\n",
       " 'remember',\n",
       " 'scene',\n",
       " 'warp',\n",
       " 'earth',\n",
       " 'did',\n",
       " 'ship',\n",
       " 'enter',\n",
       " 'earth',\n",
       " 'atmosphere',\n",
       " 'wasnt',\n",
       " 'orbit',\n",
       " 'scotty',\n",
       " 'opened',\n",
       " 'door',\n",
       " 'black',\n",
       " 'ship',\n",
       " 'come',\n",
       " 'pike',\n",
       " 'khan',\n",
       " 'didnt',\n",
       " 'slow']"
      ]
     },
     "execution_count": 84,
     "metadata": {},
     "output_type": "execute_result"
    }
   ],
   "source": [
    "QuoraQuestions['question_text'].iloc[521967]\n"
   ]
  },
  {
   "cell_type": "markdown",
   "metadata": {},
   "source": [
    "# taking first 65 words for model building"
   ]
  },
  {
   "cell_type": "code",
   "execution_count": 85,
   "metadata": {},
   "outputs": [],
   "source": [
    "import matplotlib.pyplot as plt\n",
    "from keras.preprocessing.text import Tokenizer\n",
    "from keras.preprocessing.sequence import pad_sequences"
   ]
  },
  {
   "cell_type": "code",
   "execution_count": 124,
   "metadata": {},
   "outputs": [],
   "source": [
    "max_words = 69"
   ]
  },
  {
   "cell_type": "code",
   "execution_count": 87,
   "metadata": {},
   "outputs": [],
   "source": [
    "#tokenizer = Tokenizer(num_words=max_features)\n",
    "tokenizer = Tokenizer()"
   ]
  },
  {
   "cell_type": "code",
   "execution_count": 88,
   "metadata": {
    "scrolled": true
   },
   "outputs": [
    {
     "data": {
      "text/html": [
       "<div>\n",
       "<style scoped>\n",
       "    .dataframe tbody tr th:only-of-type {\n",
       "        vertical-align: middle;\n",
       "    }\n",
       "\n",
       "    .dataframe tbody tr th {\n",
       "        vertical-align: top;\n",
       "    }\n",
       "\n",
       "    .dataframe thead th {\n",
       "        text-align: right;\n",
       "    }\n",
       "</style>\n",
       "<table border=\"1\" class=\"dataframe\">\n",
       "  <thead>\n",
       "    <tr style=\"text-align: right;\">\n",
       "      <th></th>\n",
       "      <th>question_text</th>\n",
       "      <th>target</th>\n",
       "    </tr>\n",
       "  </thead>\n",
       "  <tbody>\n",
       "    <tr>\n",
       "      <th>0</th>\n",
       "      <td>[did, quebec, nationalist, province, nation]</td>\n",
       "      <td>0</td>\n",
       "    </tr>\n",
       "    <tr>\n",
       "      <th>1</th>\n",
       "      <td>[adopted, dog, encourage, people, adopt, shop]</td>\n",
       "      <td>0</td>\n",
       "    </tr>\n",
       "    <tr>\n",
       "      <th>2</th>\n",
       "      <td>[doe, velocity, affect, time, doe, velocity, affect, space, geometry]</td>\n",
       "      <td>0</td>\n",
       "    </tr>\n",
       "    <tr>\n",
       "      <th>3</th>\n",
       "      <td>[did, otto, von, guericke, used, magdeburg, hemisphere]</td>\n",
       "      <td>0</td>\n",
       "    </tr>\n",
       "    <tr>\n",
       "      <th>4</th>\n",
       "      <td>[convert, montra, helicon, mountain, bike, just, changing, tyre]</td>\n",
       "      <td>0</td>\n",
       "    </tr>\n",
       "  </tbody>\n",
       "</table>\n",
       "</div>"
      ],
      "text/plain": [
       "                                                           question_text  \\\n",
       "0  [did, quebec, nationalist, province, nation]                            \n",
       "1  [adopted, dog, encourage, people, adopt, shop]                          \n",
       "2  [doe, velocity, affect, time, doe, velocity, affect, space, geometry]   \n",
       "3  [did, otto, von, guericke, used, magdeburg, hemisphere]                 \n",
       "4  [convert, montra, helicon, mountain, bike, just, changing, tyre]        \n",
       "\n",
       "   target  \n",
       "0  0       \n",
       "1  0       \n",
       "2  0       \n",
       "3  0       \n",
       "4  0       "
      ]
     },
     "execution_count": 88,
     "metadata": {},
     "output_type": "execute_result"
    }
   ],
   "source": [
    "QuoraQuestions.head()"
   ]
  },
  {
   "cell_type": "code",
   "execution_count": 89,
   "metadata": {},
   "outputs": [],
   "source": [
    "from sklearn.model_selection import train_test_split"
   ]
  },
  {
   "cell_type": "code",
   "execution_count": 90,
   "metadata": {},
   "outputs": [],
   "source": [
    "X_train, X_test, y_train, y_test = train_test_split(QuoraQuestions['question_text'], QuoraQuestions['target'], random_state=42, test_size=0.2, stratify =QuoraQuestions['target'] )"
   ]
  },
  {
   "cell_type": "code",
   "execution_count": 91,
   "metadata": {},
   "outputs": [
    {
     "data": {
      "text/plain": [
       "0    0.938129\n",
       "1    0.061871\n",
       "Name: target, dtype: float64"
      ]
     },
     "execution_count": 91,
     "metadata": {},
     "output_type": "execute_result"
    }
   ],
   "source": [
    "y_train.value_counts()/y_train.shape[0]"
   ]
  },
  {
   "cell_type": "code",
   "execution_count": 92,
   "metadata": {},
   "outputs": [
    {
     "data": {
      "text/plain": [
       "0    0.93813\n",
       "1    0.06187\n",
       "Name: target, dtype: float64"
      ]
     },
     "execution_count": 92,
     "metadata": {},
     "output_type": "execute_result"
    }
   ],
   "source": [
    "y_test.value_counts()/y_test.shape[0]"
   ]
  },
  {
   "cell_type": "code",
   "execution_count": 93,
   "metadata": {
    "scrolled": true
   },
   "outputs": [
    {
     "data": {
      "text/plain": [
       "1105417    [staticxxfbcdnnet]                                                                                                           \n",
       "657018     [men, affection]                                                                                                             \n",
       "924136     [switch, career, industry, possibly, network, protocol, test, career, im, year, experienced, rf, engineer, telecom, industry]\n",
       "819324     [publish, text, book]                                                                                                        \n",
       "579018     [possible, divorce, life]                                                                                                    \n",
       "505602     [isreal, benefit, india]                                                                                                     \n",
       "612965     [new, music, artist]                                                                                                         \n",
       "244382     [shriek, weird, arm, thingy, unrealistic, dance, wrap, retarded, donkey, speaks, onion, peel]                                \n",
       "499982     [people, india, spritual, compared, country]                                                                                 \n",
       "277206     [doe, universe, beat]                                                                                                        \n",
       "Name: question_text, dtype: object"
      ]
     },
     "execution_count": 93,
     "metadata": {},
     "output_type": "execute_result"
    }
   ],
   "source": [
    "X_train.head(10)"
   ]
  },
  {
   "cell_type": "code",
   "execution_count": 94,
   "metadata": {},
   "outputs": [],
   "source": [
    "tokenizer.fit_on_texts(X_train)"
   ]
  },
  {
   "cell_type": "code",
   "execution_count": 95,
   "metadata": {},
   "outputs": [],
   "source": [
    "x_train_features = np.array(tokenizer.texts_to_sequences(X_train))\n",
    "x_test_features = np.array(tokenizer.texts_to_sequences(X_test))"
   ]
  },
  {
   "cell_type": "code",
   "execution_count": 96,
   "metadata": {},
   "outputs": [
    {
     "name": "stdout",
     "output_type": "stream",
     "text": [
      "Found 186241 unique tokens.\n"
     ]
    }
   ],
   "source": [
    "word_index = tokenizer.word_index\n",
    "print('Found %s unique tokens.' % len(word_index))"
   ]
  },
  {
   "cell_type": "code",
   "execution_count": 97,
   "metadata": {},
   "outputs": [],
   "source": [
    "max_features = 186241"
   ]
  },
  {
   "cell_type": "code",
   "execution_count": 98,
   "metadata": {},
   "outputs": [],
   "source": [
    "x_train_features = pad_sequences(x_train_features,maxlen=max_words)\n",
    "x_test_features = pad_sequences(x_test_features,maxlen=max_words)"
   ]
  },
  {
   "cell_type": "code",
   "execution_count": 99,
   "metadata": {},
   "outputs": [
    {
     "data": {
      "text/plain": [
       "array([   0,    0,    0,    0,    0,    0,    0,    0,    0,    0,    0,\n",
       "          0,    0,    0,    0,    0,    0,    0,    0,    0,    0,    0,\n",
       "          0,    0,    0,    0,    0,    0,    0,    0,    0,    0,    0,\n",
       "          0,    0,    0,    0,    0,    0,    0,    0,    0,    0,    0,\n",
       "          0,    0,    0,    0,    0,    0,    0,    0,    0,    0,    0,\n",
       "          0,    0,    0,    0,    0,    0,    0,    0,    0,    0,    0,\n",
       "          0,   72, 5937])"
      ]
     },
     "execution_count": 99,
     "metadata": {},
     "output_type": "execute_result"
    }
   ],
   "source": [
    "x_train_features[1]"
   ]
  },
  {
   "cell_type": "code",
   "execution_count": 100,
   "metadata": {},
   "outputs": [
    {
     "data": {
      "text/plain": [
       "array([  0,   0,   0,   0,   0,   0,   0,   0,   0,   0,   0,   0,   0,\n",
       "         0,   0,   0,   0,   0,   0,   0,   0,   0,   0,   0,   0,   0,\n",
       "         0,   0,   0,   0,   0,   0,   0,   0,   0,   0,   0,   0,   0,\n",
       "         0,   0,   0,   0,   0,   0,   0,   0,   0,   0,   0,   0,   0,\n",
       "         0,   0,   0,   0,   0,   0,   0,   0,   0,   0,   0,   0,   0,\n",
       "         0,  22,  12, 534])"
      ]
     },
     "execution_count": 100,
     "metadata": {},
     "output_type": "execute_result"
    }
   ],
   "source": [
    "x_test_features[1]"
   ]
  },
  {
   "cell_type": "code",
   "execution_count": 101,
   "metadata": {},
   "outputs": [
    {
     "data": {
      "text/plain": [
       "(1044309, 69)"
      ]
     },
     "execution_count": 101,
     "metadata": {},
     "output_type": "execute_result"
    }
   ],
   "source": [
    "x_train_features.shape"
   ]
  },
  {
   "cell_type": "code",
   "execution_count": 102,
   "metadata": {},
   "outputs": [
    {
     "data": {
      "text/plain": [
       "(261078, 69)"
      ]
     },
     "execution_count": 102,
     "metadata": {},
     "output_type": "execute_result"
    }
   ],
   "source": [
    "x_test_features.shape"
   ]
  },
  {
   "cell_type": "code",
   "execution_count": 103,
   "metadata": {},
   "outputs": [],
   "source": [
    "from keras.models import Sequential\n",
    "from keras import layers"
   ]
  },
  {
   "cell_type": "code",
   "execution_count": 104,
   "metadata": {},
   "outputs": [
    {
     "name": "stdout",
     "output_type": "stream",
     "text": [
      "_________________________________________________________________\n",
      "Layer (type)                 Output Shape              Param #   \n",
      "=================================================================\n",
      "embedding_1 (Embedding)      (None, 69, 300)           55872300  \n",
      "_________________________________________________________________\n",
      "bidirectional_1 (Bidirection (None, 69, 64)            63936     \n",
      "_________________________________________________________________\n",
      "dropout_1 (Dropout)          (None, 69, 64)            0         \n",
      "_________________________________________________________________\n",
      "max_pooling1d_1 (MaxPooling1 (None, 13, 64)            0         \n",
      "_________________________________________________________________\n",
      "bidirectional_2 (Bidirection (None, 13, 64)            18624     \n",
      "_________________________________________________________________\n",
      "dropout_2 (Dropout)          (None, 13, 64)            0         \n",
      "_________________________________________________________________\n",
      "global_max_pooling1d_1 (Glob (None, 64)                0         \n",
      "_________________________________________________________________\n",
      "dense_1 (Dense)              (None, 1)                 65        \n",
      "=================================================================\n",
      "Total params: 55,954,925\n",
      "Trainable params: 55,954,925\n",
      "Non-trainable params: 0\n",
      "_________________________________________________________________\n",
      "None\n"
     ]
    }
   ],
   "source": [
    "# taking 100 values for word embedding matrix\n",
    "\n",
    "RnnEmbedding_Dim = 300\n",
    "\n",
    "RnnModel = Sequential()\n",
    "#traianable params = 300 dims * 186241 features = 55872300\n",
    "RnnModel.add(layers.Embedding(max_features,RnnEmbedding_Dim,input_length=max_words))\n",
    "#trainable params =  2(3(GRU's FNN) * (32 hidden units (32 hidden units+300 input)+32 hidden states)) = 63936\n",
    "RnnModel.add(layers.Bidirectional(layers.GRU(units=32,return_sequences=True)))\n",
    "#25% random drop outs\n",
    "RnnModel.add(layers.Dropout(0.25))\n",
    "# Max pooling with poolsize of 5\n",
    "RnnModel.add(layers.MaxPooling1D(5))\n",
    "#trainable params =  2(3(GRU's FNN) * (32 hidden units (32 hidden units+64 input)+32 hidden states)) = 18624 \n",
    "RnnModel.add(layers.Bidirectional(layers.GRU(units=32,return_sequences=True)))\n",
    "RnnModel.add(layers.Dropout(0.25))\n",
    "RnnModel.add(layers.GlobalMaxPooling1D())\n",
    "RnnModel.add(layers.Dense(1,activation='sigmoid'))\n",
    "\n",
    "RnnModel.compile(loss = 'binary_crossentropy',optimizer='adam',metrics=['acc'])\n",
    "print(RnnModel.summary())"
   ]
  },
  {
   "cell_type": "code",
   "execution_count": 105,
   "metadata": {
    "scrolled": true
   },
   "outputs": [
    {
     "name": "stdout",
     "output_type": "stream",
     "text": [
      "Train on 1044309 samples, validate on 261078 samples\n",
      "Epoch 1/5\n",
      "1044309/1044309 [==============================] - 509s 488us/step - loss: 0.1402 - acc: 0.9481 - val_loss: 0.1194 - val_acc: 0.9526\n",
      "Epoch 2/5\n",
      "1044309/1044309 [==============================] - 501s 480us/step - loss: 0.1055 - acc: 0.9570 - val_loss: 0.1157 - val_acc: 0.9543\n",
      "Epoch 3/5\n",
      "1044309/1044309 [==============================] - 501s 480us/step - loss: 0.0887 - acc: 0.9644 - val_loss: 0.1202 - val_acc: 0.9531\n",
      "Epoch 4/5\n",
      "1044309/1044309 [==============================] - 500s 479us/step - loss: 0.0729 - acc: 0.9713 - val_loss: 0.1291 - val_acc: 0.9503\n",
      "Epoch 5/5\n",
      "1044309/1044309 [==============================] - 502s 481us/step - loss: 0.0592 - acc: 0.9768 - val_loss: 0.1448 - val_acc: 0.9487\n"
     ]
    }
   ],
   "source": [
    "RnnHistory = RnnModel.fit(x_train_features,y_train, epochs=5, batch_size=1024,\n",
    "          validation_data=(x_test_features, y_test))"
   ]
  },
  {
   "cell_type": "code",
   "execution_count": 106,
   "metadata": {},
   "outputs": [
    {
     "data": {
      "image/png": "[encoded data removed]",
      "text/plain": [
       "<Figure size 432x288 with 1 Axes>"
      ]
     },
     "metadata": {
      "needs_background": "light"
     },
     "output_type": "display_data"
    }
   ],
   "source": [
    "plt.plot(RnnHistory.history['acc'])\n",
    "plt.plot(RnnHistory.history['val_acc'])\n",
    "plt.title('model accuracy')\n",
    "plt.ylabel('accuracy')\n",
    "plt.xlabel('epoch')\n",
    "plt.legend(['train', 'test'], loc='upper left')\n",
    "plt.show()"
   ]
  },
  {
   "cell_type": "code",
   "execution_count": 107,
   "metadata": {},
   "outputs": [
    {
     "name": "stdout",
     "output_type": "stream",
     "text": [
      "Found 400000 word vectors.\n"
     ]
    }
   ],
   "source": [
    "import os\n",
    "glove_dir = r'C:\\Users\\rayab\\Untitled Folder'\n",
    "embeddings_index = {}\n",
    "f = open(os.path.join(glove_dir,'glove.6B.300d.txt'),encoding=\"utf8\")\n",
    "for line in f:\n",
    "    values = line.split()\n",
    "    word = values[0]\n",
    "    coefs = np.asarray(values[1:],dtype='float32')\n",
    "    embeddings_index[word] = coefs\n",
    "f.close()\n",
    "\n",
    "print('Found %s word vectors.'%len(embeddings_index))"
   ]
  },
  {
   "cell_type": "code",
   "execution_count": 125,
   "metadata": {},
   "outputs": [],
   "source": [
    "embedding_dim = 300\n",
    "embedding_matrix = np.zeros((max_features,embedding_dim))\n",
    "for word, i in word_index.items():\n",
    "    if i < max_features:\n",
    "        embedding_vector = embeddings_index.get(word)\n",
    "        if embedding_vector is not None:\n",
    "            embedding_matrix[i] = embedding_vector"
   ]
  },
  {
   "cell_type": "code",
   "execution_count": 126,
   "metadata": {
    "scrolled": true
   },
   "outputs": [
    {
     "data": {
      "text/plain": [
       "(186241, 300)"
      ]
     },
     "execution_count": 126,
     "metadata": {},
     "output_type": "execute_result"
    }
   ],
   "source": [
    "embedding_matrix.shape"
   ]
  },
  {
   "cell_type": "code",
   "execution_count": 127,
   "metadata": {},
   "outputs": [
    {
     "name": "stdout",
     "output_type": "stream",
     "text": [
      "_________________________________________________________________\n",
      "Layer (type)                 Output Shape              Param #   \n",
      "=================================================================\n",
      "embedding_9 (Embedding)      (None, 69, 300)           55872300  \n",
      "_________________________________________________________________\n",
      "bidirectional_15 (Bidirectio (None, 69, 64)            63936     \n",
      "_________________________________________________________________\n",
      "dropout_15 (Dropout)         (None, 69, 64)            0         \n",
      "_________________________________________________________________\n",
      "max_pooling1d_8 (MaxPooling1 (None, 13, 64)            0         \n",
      "_________________________________________________________________\n",
      "bidirectional_16 (Bidirectio (None, 13, 64)            18624     \n",
      "_________________________________________________________________\n",
      "dropout_16 (Dropout)         (None, 13, 64)            0         \n",
      "_________________________________________________________________\n",
      "global_max_pooling1d_8 (Glob (None, 64)                0         \n",
      "_________________________________________________________________\n",
      "dense_8 (Dense)              (None, 1)                 65        \n",
      "=================================================================\n",
      "Total params: 55,954,925\n",
      "Trainable params: 82,625\n",
      "Non-trainable params: 55,872,300\n",
      "_________________________________________________________________\n",
      "None\n"
     ]
    }
   ],
   "source": [
    "#model with Glove\n",
    "RnnEmbedding_Dim = 300\n",
    "\n",
    "from keras.initializers import Constant\n",
    "\n",
    "GRUModel = Sequential()\n",
    "#zero trainable params\n",
    "#frozen params 300 dims * 186241 features = 55872300\n",
    "GRUModel.add(layers.Embedding(max_features,RnnEmbedding_Dim,\n",
    "                              embeddings_initializer = Constant(embedding_matrix),\n",
    "                              trainable=False,\n",
    "                              input_length=max_words))\n",
    "#trainable params =  2(3(GRU's FNN) * (32 hidden units (32 hidden units+300 input)+32 hidden states)) = 63936\n",
    "GRUModel.add(layers.Bidirectional(layers.GRU(units=32,return_sequences=True)))\n",
    "GRUModel.add(layers.Dropout(0.25))\n",
    "GRUModel.add(layers.MaxPooling1D(5))\n",
    "#trainable params =  2(3(GRU's FNN) * (32 hidden units (32 hidden units+64 input)+32 hidden states)) = 18624\n",
    "GRUModel.add(layers.Bidirectional(layers.GRU(units=32,return_sequences=True)))\n",
    "GRUModel.add(layers.Dropout(0.25))\n",
    "GRUModel.add(layers.GlobalMaxPooling1D())\n",
    "GRUModel.add(layers.Dense(1,activation='sigmoid'))\n",
    "\n",
    "GRUModel.compile(loss = 'binary_crossentropy',optimizer='adam',metrics=['acc'])\n",
    "print(GRUModel.summary())\n"
   ]
  },
  {
   "cell_type": "code",
   "execution_count": 128,
   "metadata": {
    "scrolled": true
   },
   "outputs": [
    {
     "name": "stdout",
     "output_type": "stream",
     "text": [
      "Train on 1044309 samples, validate on 261078 samples\n",
      "Epoch 1/5\n",
      "1044309/1044309 [==============================] - 519s 497us/step - loss: 0.1412 - acc: 0.9489 - val_loss: 0.1259 - val_acc: 0.9534\n",
      "Epoch 2/5\n",
      "1044309/1044309 [==============================] - 463s 443us/step - loss: 0.1167 - acc: 0.9543 - val_loss: 0.1286 - val_acc: 0.9539\n",
      "Epoch 3/5\n",
      "1044309/1044309 [==============================] - 466s 446us/step - loss: 0.1124 - acc: 0.9558 - val_loss: 0.1183 - val_acc: 0.9549\n",
      "Epoch 4/5\n",
      "1044309/1044309 [==============================] - 471s 451us/step - loss: 0.1096 - acc: 0.9566 - val_loss: 0.1204 - val_acc: 0.9551\n",
      "Epoch 5/5\n",
      "1044309/1044309 [==============================] - 474s 454us/step - loss: 0.1071 - acc: 0.9575 - val_loss: 0.1153 - val_acc: 0.9551\n"
     ]
    }
   ],
   "source": [
    "history1 = GRUModel.fit(x_train_features,y_train, epochs=5, batch_size=1024,\n",
    "          validation_data=(x_test_features, y_test))"
   ]
  },
  {
   "cell_type": "code",
   "execution_count": 129,
   "metadata": {
    "scrolled": false
   },
   "outputs": [
    {
     "data": {
      "image/png": "[encoded data removed]",
      "text/plain": [
       "<Figure size 432x288 with 1 Axes>"
      ]
     },
     "metadata": {
      "needs_background": "light"
     },
     "output_type": "display_data"
    }
   ],
   "source": [
    "plt.plot(history1.history['acc'])\n",
    "plt.plot(history1.history['val_acc'])\n",
    "plt.title('model accuracy with pre trained embeddings')\n",
    "plt.ylabel('accuracy')\n",
    "plt.xlabel('epoch')\n",
    "plt.legend(['train', 'test'], loc='upper left')\n",
    "plt.show()"
   ]
  },
  {
   "cell_type": "code",
   "execution_count": 130,
   "metadata": {},
   "outputs": [],
   "source": [
    "from sklearn.metrics import confusion_matrix,f1_score, precision_score,recall_score"
   ]
  },
  {
   "cell_type": "code",
   "execution_count": 132,
   "metadata": {},
   "outputs": [],
   "source": [
    "preds = GRUModel.predict(x_test_features)"
   ]
  },
  {
   "cell_type": "code",
   "execution_count": 133,
   "metadata": {},
   "outputs": [
    {
     "data": {
      "text/plain": [
       "array([[0.01290813],\n",
       "       [0.10378985],\n",
       "       [0.00796754],\n",
       "       ...,\n",
       "       [0.01165336],\n",
       "       [0.0031987 ],\n",
       "       [0.03987068]], dtype=float32)"
      ]
     },
     "execution_count": 133,
     "metadata": {},
     "output_type": "execute_result"
    }
   ],
   "source": [
    "preds"
   ]
  },
  {
   "cell_type": "code",
   "execution_count": 134,
   "metadata": {},
   "outputs": [],
   "source": [
    "from sklearn.metrics import roc_auc_score,roc_curve"
   ]
  },
  {
   "cell_type": "code",
   "execution_count": 139,
   "metadata": {},
   "outputs": [],
   "source": [
    "fpr, tpr, thresholds = roc_curve(y_test,preds)\n",
    "optimal_idx = np.argmax(tpr - fpr)\n",
    "optimal_threshold = thresholds[optimal_idx]\n",
    "\n",
    "y_predict  = [1 if o>optimal_threshold else 0 for o in preds]\n"
   ]
  },
  {
   "cell_type": "code",
   "execution_count": 140,
   "metadata": {},
   "outputs": [],
   "source": [
    "import matplotlib.pyplot as plt\n",
    "from sklearn.metrics import confusion_matrix\n",
    "import itertools\n",
    "\n",
    "def plot_confusion_matrix(cm, classes,\n",
    "                          normalize=False,\n",
    "                          title='Confusion matrix',\n",
    "                          cmap=plt.cm.Blues):\n",
    "    \"\"\"\n",
    "    This function prints and plots the confusion matrix.\n",
    "    Normalization can be applied by setting `normalize=True`.\n",
    "    \"\"\"\n",
    "    if normalize:\n",
    "        cm = cm.astype('float') / cm.sum(axis=1)[:, np.newaxis]\n",
    "        print(\"Normalized confusion matrix\")\n",
    "    else:\n",
    "        print('Confusion matrix, without normalization')\n",
    "\n",
    "    print(cm)\n",
    "\n",
    "    plt.imshow(cm, interpolation='nearest', cmap=cmap)\n",
    "    plt.title(title)\n",
    "    plt.colorbar()\n",
    "    tick_marks = np.arange(len(classes))\n",
    "    plt.xticks(tick_marks, classes, rotation=45)\n",
    "    plt.yticks(tick_marks, classes)\n",
    "\n",
    "    fmt = '.2f' if normalize else 'd'\n",
    "    thresh = cm.max() / 2.\n",
    "    for i, j in itertools.product(range(cm.shape[0]), range(cm.shape[1])):\n",
    "        plt.text(j, i, format(cm[i, j], fmt),\n",
    "                 horizontalalignment=\"center\",\n",
    "                 color=\"white\" if cm[i, j] > thresh else \"black\")\n",
    "\n",
    "    plt.ylabel('True label')\n",
    "    plt.xlabel('Predicted label')\n",
    "    plt.tight_layout()"
   ]
  },
  {
   "cell_type": "code",
   "execution_count": 144,
   "metadata": {},
   "outputs": [
    {
     "name": "stdout",
     "output_type": "stream",
     "text": [
      "Confusion matrix, without normalization\n",
      "[[219858  25067]\n",
      " [  1851  14302]]\n"
     ]
    },
    {
     "data": {
      "image/png": "[encoded data removed]",
      "text/plain": [
       "<Figure size 432x288 with 2 Axes>"
      ]
     },
     "metadata": {
      "needs_background": "light"
     },
     "output_type": "display_data"
    }
   ],
   "source": [
    "cnf_matrix = confusion_matrix(y_test,y_predict)\n",
    "\n",
    "plt.figure()\n",
    "plot_confusion_matrix(cnf_matrix, classes=['Non Spam','Spam'], normalize=False,\n",
    "                      title='Confusion matrix')"
   ]
  },
  {
   "cell_type": "code",
   "execution_count": null,
   "metadata": {},
   "outputs": [],
   "source": []
  }
 ],
 "metadata": {
  "kernelspec": {
   "display_name": "Python 3",
   "language": "python",
   "name": "python3"
  },
  "language_info": {
   "codemirror_mode": {
    "name": "ipython",
    "version": 3
   },
   "file_extension": ".py",
   "mimetype": "text/x-python",
   "name": "python",
   "nbconvert_exporter": "python",
   "pygments_lexer": "ipython3",
   "version": "3.6.8"
  }
 },
 "nbformat": 4,
 "nbformat_minor": 2
}
